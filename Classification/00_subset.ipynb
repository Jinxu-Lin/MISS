{
 "cells": [
  {
   "cell_type": "code",
   "execution_count": 1,
   "metadata": {},
   "outputs": [
    {
     "name": "stderr",
     "output_type": "stream",
     "text": [
      "/home/jinxulin/anaconda3/envs/miss/lib/python3.8/site-packages/tqdm/auto.py:21: TqdmWarning: IProgress not found. Please update jupyter and ipywidgets. See https://ipywidgets.readthedocs.io/en/stable/user_install.html\n",
      "  from .autonotebook import tqdm as notebook_tqdm\n"
     ]
    }
   ],
   "source": [
    "import os\n",
    "import pickle\n",
    "import pandas as pd\n",
    "import random\n",
    "from sklearn.model_selection import train_test_split\n",
    "from datasets import load_from_disk, load_dataset"
   ]
  },
  {
   "cell_type": "code",
   "execution_count": 2,
   "metadata": {},
   "outputs": [],
   "source": [
    "# set seed\n",
    "random.seed(42)"
   ]
  },
  {
   "cell_type": "code",
   "execution_count": 3,
   "metadata": {},
   "outputs": [],
   "source": [
    "# download dataset or load from disk\n",
    "download_dataset = False\n",
    "\n",
    "if download_dataset:\n",
    "    dataset = load_dataset(\n",
    "                'cifar10'\n",
    "            )\n",
    "    os.makedirs(\"../Dataset\", exist_ok=True)\n",
    "    dataset.save_to_disk(\"../Dataset/CIFAR10\")\n",
    "else:\n",
    "    dataset = load_from_disk(\"../Dataset/CIFAR10\")\n",
    "    \n",
    "train_dataset = dataset['train']\n",
    "test_dataset = dataset['test']"
   ]
  },
  {
   "cell_type": "code",
   "execution_count": 4,
   "metadata": {},
   "outputs": [
    {
     "name": "stdout",
     "output_type": "stream",
     "text": [
      "    label\n",
      "10      5\n",
      "13      3\n",
      "15      3\n",
      "16      5\n",
      "17      5\n"
     ]
    }
   ],
   "source": [
    "# CIFAR2\n",
    "df_train_cifar2 = pd.DataFrame()\n",
    "df_train_cifar2['label'] = train_dataset['label']\n",
    "df_train_cifar2 = df_train_cifar2[(df_train_cifar2['label']==3) | (df_train_cifar2['label']==5)]\n",
    "print(df_train_cifar2.head())"
   ]
  },
  {
   "cell_type": "code",
   "execution_count": 5,
   "metadata": {},
   "outputs": [
    {
     "name": "stdout",
     "output_type": "stream",
     "text": [
      "    label\n",
      "0       3\n",
      "8       3\n",
      "12      5\n",
      "16      5\n",
      "24      5\n"
     ]
    }
   ],
   "source": [
    "df_test_cifar2 = pd.DataFrame()\n",
    "df_test_cifar2['label'] = test_dataset['label']\n",
    "df_test_cifar2 = df_test_cifar2[(df_test_cifar2['label']==3) | (df_test_cifar2['label']==5)]\n",
    "print(df_test_cifar2.head())"
   ]
  },
  {
   "cell_type": "code",
   "execution_count": 6,
   "metadata": {},
   "outputs": [],
   "source": [
    "cifar2_indices_dir = \"./data/cifar2\"\n",
    "os.makedirs(cifar2_indices_dir, exist_ok=True)\n",
    "\n",
    "train_index_cifar2 = os.path.join(cifar2_indices_dir, \"idx-train.pkl\")\n",
    "with open(train_index_cifar2, 'wb') as handle:\n",
    "    pickle.dump(df_train_cifar2.index.to_list(), handle)\n",
    "\n",
    "test_index_cifar2 = os.path.join(cifar2_indices_dir, \"idx-test.pkl\")\n",
    "with open(test_index_cifar2, 'wb') as handle:\n",
    "    pickle.dump(df_test_cifar2.index.to_list(), handle)"
   ]
  },
  {
   "cell_type": "code",
   "execution_count": 7,
   "metadata": {},
   "outputs": [],
   "source": [
    "for k in range(256):\n",
    "    tmp, _ = train_test_split(df_train_cifar2, train_size=0.5, random_state=42+k, \n",
    "                            stratify=df_train_cifar2['label']\n",
    "                        )\n",
    "    filename = os.path.join('./data/cifar2/lds-val/sub-idx-{}.pkl'.format(k))\n",
    "    os.makedirs(os.path.dirname(filename), exist_ok=True)\n",
    "    with open(filename, 'wb') as handle:\n",
    "        pickle.dump(tmp.index.to_list(), handle)"
   ]
  },
  {
   "cell_type": "code",
   "execution_count": 8,
   "metadata": {},
   "outputs": [
    {
     "name": "stdout",
     "output_type": "stream",
     "text": [
      "[10, 13, 15, 16, 17, 22, 28, 42, 46, 54]\n"
     ]
    }
   ],
   "source": [
    "with open(\"./data/cifar2/idx-train.pkl\", 'rb') as handle:\n",
    "    train_indices = pickle.load(handle)\n",
    "print(train_indices[0:10])"
   ]
  },
  {
   "cell_type": "code",
   "execution_count": 9,
   "metadata": {},
   "outputs": [
    {
     "name": "stdout",
     "output_type": "stream",
     "text": [
      "[17274, 17585, 25421, 7451, 4801, 39117, 11089, 38052, 39975, 5386]\n"
     ]
    }
   ],
   "source": [
    "with open('./data/cifar2/lds-val/sub-idx-0.pkl', 'rb') as handle:\n",
    "    sub_0 = pickle.load(handle)\n",
    "print(sub_0[0:10])\n"
   ]
  },
  {
   "cell_type": "code",
   "execution_count": 10,
   "metadata": {},
   "outputs": [
    {
     "name": "stdout",
     "output_type": "stream",
     "text": [
      "[24759, 36596, 21724, 9151, 16896, 27615, 25774, 36980, 12662, 24064]\n"
     ]
    }
   ],
   "source": [
    "with open('./data/cifar2/lds-val/sub-idx-1.pkl', 'rb') as handle:\n",
    "    sub_1 = pickle.load(handle)\n",
    "print(sub_1[0:10])"
   ]
  },
  {
   "cell_type": "code",
   "execution_count": 11,
   "metadata": {},
   "outputs": [
    {
     "name": "stdout",
     "output_type": "stream",
     "text": [
      "   label\n",
      "0      0\n",
      "1      6\n",
      "2      0\n",
      "3      2\n",
      "4      7\n"
     ]
    }
   ],
   "source": [
    "#  CIFAR10\n",
    "\n",
    "df_train_cifar10 = pd.DataFrame()\n",
    "df_train_cifar10['label'] = train_dataset['label']\n",
    "print(df_train_cifar10.head())"
   ]
  },
  {
   "cell_type": "code",
   "execution_count": 12,
   "metadata": {},
   "outputs": [
    {
     "name": "stdout",
     "output_type": "stream",
     "text": [
      "   label\n",
      "0      3\n",
      "1      8\n",
      "2      8\n",
      "3      0\n",
      "4      6\n"
     ]
    }
   ],
   "source": [
    "df_test_cifar10 = pd.DataFrame()\n",
    "df_test_cifar10['label'] = test_dataset['label']\n",
    "print(df_test_cifar10.head())"
   ]
  },
  {
   "cell_type": "code",
   "execution_count": 13,
   "metadata": {},
   "outputs": [],
   "source": [
    "cifar10_indices_dir = \"./data/cifar10\"\n",
    "os.makedirs(cifar10_indices_dir, exist_ok=True)\n",
    "\n",
    "train_index_cifar10 = os.path.join(cifar10_indices_dir, \"idx-train.pkl\")\n",
    "with open(train_index_cifar10, 'wb') as handle:\n",
    "    pickle.dump(df_train_cifar10.index.to_list(), handle)\n",
    "\n",
    "test_index_cifar10 = \"./data/cifar10/idx-test.pkl\"\n",
    "with open(test_index_cifar10, 'wb') as handle:\n",
    "    pickle.dump(df_test_cifar10.index.to_list(), handle)"
   ]
  },
  {
   "cell_type": "code",
   "execution_count": 14,
   "metadata": {},
   "outputs": [],
   "source": [
    "for k in range(256):\n",
    "    tmp, _ = train_test_split(df_train_cifar10, train_size=0.5, random_state=42+k, \n",
    "                            stratify=df_train_cifar10['label']\n",
    "                        )\n",
    "    filename = os.path.join('./data/cifar10/lds-val/sub-idx-{}.pkl'.format(k))\n",
    "    os.makedirs(os.path.dirname(filename), exist_ok=True)\n",
    "    with open(filename, 'wb') as handle:\n",
    "        pickle.dump(tmp.index.to_list(), handle)"
   ]
  },
  {
   "cell_type": "code",
   "execution_count": 15,
   "metadata": {},
   "outputs": [
    {
     "name": "stdout",
     "output_type": "stream",
     "text": [
      "[0, 1, 2, 3, 4, 5, 6, 7, 8, 9]\n"
     ]
    }
   ],
   "source": [
    "with open(\"./data/cifar10/idx-train.pkl\", 'rb') as handle:\n",
    "    train_indices = pickle.load(handle)\n",
    "print(train_indices[0:10])"
   ]
  },
  {
   "cell_type": "code",
   "execution_count": 16,
   "metadata": {},
   "outputs": [
    {
     "name": "stdout",
     "output_type": "stream",
     "text": [
      "[10936, 11178, 26489, 22034, 14307, 6860, 34584, 49472, 32957, 39985]\n"
     ]
    }
   ],
   "source": [
    "with open('./data/cifar10/lds-val/sub-idx-0.pkl', 'rb') as handle:\n",
    "    sub_0 = pickle.load(handle)\n",
    "print(sub_0[0:10])"
   ]
  },
  {
   "cell_type": "code",
   "execution_count": 17,
   "metadata": {},
   "outputs": [
    {
     "name": "stdout",
     "output_type": "stream",
     "text": [
      "[24759, 36596, 21724, 9151, 16896, 27615, 25774, 36980, 12662, 24064]\n"
     ]
    }
   ],
   "source": [
    "with open('./data/cifar2/lds-val/sub-idx-1.pkl', 'rb') as handle:\n",
    "    sub_1 = pickle.load(handle)\n",
    "print(sub_1[0:10])"
   ]
  }
 ],
 "metadata": {
  "kernelspec": {
   "display_name": "miss",
   "language": "python",
   "name": "python3"
  },
  "language_info": {
   "codemirror_mode": {
    "name": "ipython",
    "version": 3
   },
   "file_extension": ".py",
   "mimetype": "text/x-python",
   "name": "python",
   "nbconvert_exporter": "python",
   "pygments_lexer": "ipython3",
   "version": "3.8.0"
  }
 },
 "nbformat": 4,
 "nbformat_minor": 2
}
