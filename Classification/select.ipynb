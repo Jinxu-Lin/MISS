{
 "cells": [
  {
   "cell_type": "code",
   "execution_count": 24,
   "metadata": {},
   "outputs": [],
   "source": [
    "import os\n",
    "import pickle\n",
    "import pandas as pd\n",
    "import random\n",
    "from datasets import load_from_disk, load_dataset"
   ]
  },
  {
   "cell_type": "code",
   "execution_count": 17,
   "metadata": {},
   "outputs": [
    {
     "name": "stderr",
     "output_type": "stream",
     "text": [
      "Saving the dataset (1/1 shards): 100%|██████████| 50000/50000 [00:00<00:00, 225474.03 examples/s]\n",
      "Saving the dataset (1/1 shards): 100%|██████████| 10000/10000 [00:00<00:00, 234041.47 examples/s]\n"
     ]
    }
   ],
   "source": [
    "dataset = load_dataset(\n",
    "            'cifar10'\n",
    "        )\n",
    "dataset.save_to_disk(\"../Dataset/CIFAR10\")"
   ]
  },
  {
   "cell_type": "code",
   "execution_count": 19,
   "metadata": {},
   "outputs": [],
   "source": [
    "train_dataset = load_from_disk(\n",
    "    \"../Dataset/CIFAR10/train\"\n",
    ")\n",
    "\n",
    "test_dataset = load_from_disk(\n",
    "    \"../Dataset/CIFAR10/test\"\n",
    ")\n"
   ]
  },
  {
   "cell_type": "code",
   "execution_count": 20,
   "metadata": {},
   "outputs": [],
   "source": [
    "# CIFAR2\n",
    "df_train_cifar2 = pd.DataFrame()\n",
    "df_train_cifar2['label'] = train_dataset['label']\n",
    "df_train_cifar2 = df_train_cifar2[(df_train_cifar2['label']==3) | (df_train_cifar2['label']==5)]\n",
    "\n",
    "df_test_cifar2 = pd.DataFrame()\n",
    "df_test_cifar2['label'] = test_dataset['label']\n",
    "df_test_cifar2 = df_test_cifar2[(df_test_cifar2['label']==3) | (df_test_cifar2['label']==5)]"
   ]
  },
  {
   "cell_type": "code",
   "execution_count": 39,
   "metadata": {},
   "outputs": [],
   "source": [
    "cifar2_indices_dir = \"./data/cifar2\"\n",
    "os.makedirs(cifar2_indices_dir, exist_ok=True)\n",
    "train_index_cifar2 = os.path.join(cifar2_indices_dir, \"idx-train.pkl\")\n",
    "\n",
    "with open(train_index_cifar2, 'wb') as handle:\n",
    "    pickle.dump(df_train_cifar2.index.to_list(), handle)\n",
    "\n",
    "test_index_cifar2 = os.path.join(cifar2_indices_dir, \"idx-test.pkl\")\n",
    "with open(test_index_cifar2, 'wb') as handle:\n",
    "    pickle.dump(df_test_cifar2.index.to_list(), handle)"
   ]
  },
  {
   "cell_type": "code",
   "execution_count": 41,
   "metadata": {},
   "outputs": [],
   "source": [
    "def generate_subsets(indices, num_subsets, subset_size, output_dir):\n",
    "    for i in range(num_subsets):\n",
    "        subset_indices = random.sample(indices, subset_size)  # 随机采样子集\n",
    "        output_path = os.path.join(output_dir, f\"sub-idx-{i}.pkl\")\n",
    "        with open(output_path, 'wb') as handle:\n",
    "            pickle.dump(subset_indices, handle)"
   ]
  },
  {
   "cell_type": "code",
   "execution_count": 34,
   "metadata": {},
   "outputs": [],
   "source": [
    "output_dir = \"./data/cifar2/lds_val\"\n",
    "os.makedirs(output_dir, exist_ok=True)\n",
    "num_subsets = 256\n",
    "\n",
    "with open(\"./data/cifar2/idx-train.pkl\", 'rb') as handle:\n",
    "    train_indices = pickle.load(handle)\n",
    "\n",
    "train_subset_size = len(train_indices) // 2\n",
    "\n",
    "generate_subsets(train_indices, num_subsets, train_subset_size, output_dir)"
   ]
  },
  {
   "cell_type": "code",
   "execution_count": 35,
   "metadata": {},
   "outputs": [],
   "source": [
    "#  CIFAR10\n",
    "\n",
    "df_train_cifar10 = pd.DataFrame()\n",
    "df_train_cifar10['label'] = train_dataset['label']\n",
    "\n",
    "df_test_cifar10 = pd.DataFrame()\n",
    "df_test_cifar10['label'] = test_dataset['label']"
   ]
  },
  {
   "cell_type": "code",
   "execution_count": 36,
   "metadata": {},
   "outputs": [
    {
     "name": "stdout",
     "output_type": "stream",
     "text": [
      "50000\n"
     ]
    }
   ],
   "source": [
    "print(len(df_train_cifar10))"
   ]
  },
  {
   "cell_type": "code",
   "execution_count": 38,
   "metadata": {},
   "outputs": [],
   "source": [
    "cifar10_indices_dir = \"./data/cifar10\"\n",
    "os.makedirs(cifar10_indices_dir, exist_ok=True)\n",
    "train_index_cifar10 = os.path.join(cifar10_indices_dir, \"idx-train.pkl\")\n",
    "with open(train_index_cifar10, 'wb') as handle:\n",
    "    pickle.dump(df_train_cifar10.index.to_list(), handle)\n",
    "\n",
    "test_index_cifar10 = \"./data/cifar10/idx-test.pkl\"\n",
    "with open(test_index_cifar10, 'wb') as handle:\n",
    "    pickle.dump(df_test_cifar10.index.to_list(), handle)"
   ]
  },
  {
   "cell_type": "code",
   "execution_count": 42,
   "metadata": {},
   "outputs": [],
   "source": [
    "output_dir = \"./data/cifar10/lds_val\"\n",
    "os.makedirs(output_dir, exist_ok=True)\n",
    "num_subsets = 256\n",
    "\n",
    "with open(\"./data/cifar10/idx-train.pkl\", 'rb') as handle:\n",
    "    train_indices = pickle.load(handle)\n",
    "\n",
    "train_subset_size = len(train_indices) // 2\n",
    "\n",
    "generate_subsets(train_indices, num_subsets, train_subset_size, output_dir)"
   ]
  }
 ],
 "metadata": {
  "kernelspec": {
   "display_name": "miss",
   "language": "python",
   "name": "python3"
  },
  "language_info": {
   "codemirror_mode": {
    "name": "ipython",
    "version": 3
   },
   "file_extension": ".py",
   "mimetype": "text/x-python",
   "name": "python",
   "nbconvert_exporter": "python",
   "pygments_lexer": "ipython3",
   "version": "3.8.20"
  }
 },
 "nbformat": 4,
 "nbformat_minor": 2
}
